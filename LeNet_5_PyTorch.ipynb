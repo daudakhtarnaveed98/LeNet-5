{
  "nbformat": 4,
  "nbformat_minor": 0,
  "metadata": {
    "kernelspec": {
      "language": "python",
      "display_name": "Python 3",
      "name": "python3"
    },
    "language_info": {
      "name": "python",
      "version": "3.7.10",
      "mimetype": "text/x-python",
      "codemirror_mode": {
        "name": "ipython",
        "version": 3
      },
      "pygments_lexer": "ipython3",
      "nbconvert_exporter": "python",
      "file_extension": ".py"
    },
    "colab": {
      "name": "LeNet-5-PyTorch.ipynb",
      "provenance": [],
      "collapsed_sections": []
    },
    "accelerator": "GPU"
  },
  "cells": [
    {
      "cell_type": "code",
      "metadata": {
        "_uuid": "8f2839f25d086af736a60e9eeb907d3b93b6e0e5",
        "_cell_guid": "b1076dfc-b9ad-4769-8c92-a6c4dae69d19",
        "execution": {
          "iopub.status.busy": "2021-10-05T18:10:57.291354Z",
          "iopub.execute_input": "2021-10-05T18:10:57.291645Z",
          "iopub.status.idle": "2021-10-05T18:10:58.420168Z",
          "shell.execute_reply.started": "2021-10-05T18:10:57.291614Z",
          "shell.execute_reply": "2021-10-05T18:10:58.419260Z"
        },
        "trusted": true,
        "id": "0m-cBMB0qjzs"
      },
      "source": [
        "# Import packages.\n",
        "import torch\n",
        "from torch import nn\n",
        "from torch.nn import functional as F\n",
        "from torch.utils.data import DataLoader\n",
        "from torchvision import datasets\n",
        "from torchvision.transforms import ToTensor, Lambda, Compose, Resize"
      ],
      "execution_count": null,
      "outputs": []
    },
    {
      "cell_type": "code",
      "metadata": {
        "execution": {
          "iopub.status.busy": "2021-10-05T18:11:56.545058Z",
          "iopub.execute_input": "2021-10-05T18:11:56.545373Z",
          "iopub.status.idle": "2021-10-05T18:12:16.654037Z",
          "shell.execute_reply.started": "2021-10-05T18:11:56.545326Z",
          "shell.execute_reply": "2021-10-05T18:12:16.653082Z"
        },
        "trusted": true,
        "id": "YFLsglJqqjzw"
      },
      "source": [
        "# Download data.\n",
        "training_data = datasets.FashionMNIST(root=\"data\", train=True, download=True, transform=Compose([ToTensor(), Resize((32, 32))]))\n",
        "test_data = datasets.FashionMNIST(root=\"data\", train=False, download=True, transform=Compose([ToTensor(), Resize((32, 32))]))"
      ],
      "execution_count": null,
      "outputs": []
    },
    {
      "cell_type": "code",
      "metadata": {
        "execution": {
          "iopub.status.busy": "2021-10-05T16:57:19.632783Z",
          "iopub.status.idle": "2021-10-05T16:57:19.633251Z",
          "shell.execute_reply.started": "2021-10-05T16:57:19.633040Z",
          "shell.execute_reply": "2021-10-05T16:57:19.633063Z"
        },
        "trusted": true,
        "id": "-7qcg2-Eqjzw"
      },
      "source": [
        "# Load data.\n",
        "train_dataloader = DataLoader(training_data, batch_size=64)\n",
        "test_dataloader = DataLoader(test_data, batch_size=64)"
      ],
      "execution_count": null,
      "outputs": []
    },
    {
      "cell_type": "code",
      "metadata": {
        "execution": {
          "iopub.status.busy": "2021-10-05T16:42:59.806685Z",
          "iopub.execute_input": "2021-10-05T16:42:59.806927Z",
          "iopub.status.idle": "2021-10-05T16:42:59.817829Z",
          "shell.execute_reply.started": "2021-10-05T16:42:59.806899Z",
          "shell.execute_reply": "2021-10-05T16:42:59.816860Z"
        },
        "trusted": true,
        "id": "HcLN9iQdqjzx"
      },
      "source": [
        "# Define model.\n",
        "class LeNet5(nn.Module):\n",
        "    def __init__(self):\n",
        "        super(LeNet5, self).__init__()\n",
        "        self.c1 = nn.Conv2d(in_channels=1, out_channels=6, kernel_size=5, stride=1, padding=0)\n",
        "        self.r1 = nn.ReLU()\n",
        "        self.p1 = nn.MaxPool2d(kernel_size=2, stride=2, padding=0)\n",
        "        \n",
        "        self.c2 = nn.Conv2d(in_channels=6, out_channels=16, kernel_size=5, stride=1, padding=0)\n",
        "        self.r2 = nn.ReLU()\n",
        "        self.p2 = nn.MaxPool2d(kernel_size=2, stride=2, padding=0)\n",
        "        \n",
        "        self.fl = nn.Flatten()\n",
        "        \n",
        "        self.l1 = nn.Linear(in_features=400, out_features=120)\n",
        "        self.l2 = nn.Linear(in_features=120, out_features=84)\n",
        "        self.l3 = nn.Linear(in_features=84, out_features=10)\n",
        "\n",
        "\n",
        "    def forward(self, x):\n",
        "        x = self.c1(x)\n",
        "        x = self.r1(x)\n",
        "        x = self.p1(x)\n",
        "        \n",
        "        x = self.c2(x)\n",
        "        x = self.r2(x)\n",
        "        x = self.p2(x)\n",
        "        \n",
        "        x = self.fl(x)\n",
        "        \n",
        "        x = self.l1(x)\n",
        "        x = self.l2(x)\n",
        "        x = self.l3(x)\n",
        "        \n",
        "        x = F.softmax(x, dim=1)\n",
        "            \n",
        "        return x"
      ],
      "execution_count": null,
      "outputs": []
    },
    {
      "cell_type": "code",
      "metadata": {
        "execution": {
          "iopub.status.busy": "2021-10-05T16:42:59.790877Z",
          "iopub.execute_input": "2021-10-05T16:42:59.791082Z",
          "iopub.status.idle": "2021-10-05T16:42:59.805013Z",
          "shell.execute_reply.started": "2021-10-05T16:42:59.791058Z",
          "shell.execute_reply": "2021-10-05T16:42:59.803950Z"
        },
        "trusted": true,
        "id": "pQX_7cPUqjzy"
      },
      "source": [
        "# Set device.\n",
        "device = 'cuda' if torch.cuda.is_available() else 'cpu'\n",
        "print('Using {} device'.format(device))"
      ],
      "execution_count": null,
      "outputs": []
    },
    {
      "cell_type": "code",
      "metadata": {
        "execution": {
          "iopub.status.busy": "2021-10-05T16:51:27.334563Z",
          "iopub.execute_input": "2021-10-05T16:51:27.334900Z",
          "iopub.status.idle": "2021-10-05T16:51:27.341429Z",
          "shell.execute_reply.started": "2021-10-05T16:51:27.334868Z",
          "shell.execute_reply": "2021-10-05T16:51:27.340486Z"
        },
        "trusted": true,
        "id": "U-KSTMXAqjzy"
      },
      "source": [
        "# Instantiate model to device.\n",
        "model = LeNet5().to(device)"
      ],
      "execution_count": null,
      "outputs": []
    },
    {
      "cell_type": "code",
      "metadata": {
        "execution": {
          "iopub.status.busy": "2021-10-05T16:42:59.839200Z",
          "iopub.execute_input": "2021-10-05T16:42:59.839437Z",
          "iopub.status.idle": "2021-10-05T16:42:59.845099Z",
          "shell.execute_reply.started": "2021-10-05T16:42:59.839411Z",
          "shell.execute_reply": "2021-10-05T16:42:59.844176Z"
        },
        "trusted": true,
        "id": "1phQDFUqqjzz"
      },
      "source": [
        "# Hyperparameters.\n",
        "learning_rate = 1e-3\n",
        "batch_size = 32\n",
        "epochs = 25 "
      ],
      "execution_count": null,
      "outputs": []
    },
    {
      "cell_type": "code",
      "metadata": {
        "id": "zAMs6BTYq3nT"
      },
      "source": [
        "# Loss function and optimizer.\n",
        "loss_fn = nn.CrossEntropyLoss()\n",
        "optimizer = torch.optim.Adam(model.parameters(), lr=learning_rate)"
      ],
      "execution_count": null,
      "outputs": []
    },
    {
      "cell_type": "code",
      "metadata": {
        "id": "EbbvB5VxrMTa"
      },
      "source": [
        "# Train loop.\n",
        "# Copied from: https://pytorch.org/tutorials/beginner/basics/quickstart_tutorial.html\n",
        "def train_loop(dataloader, model, loss_fn, optimizer):\n",
        "    size = len(dataloader.dataset)\n",
        "    for batch, (X, y) in enumerate(dataloader):\n",
        "        X, y = X.to(device), y.to(device)\n",
        "        pred = model(X)\n",
        "        loss = loss_fn(pred, y)\n",
        "\n",
        "        optimizer.zero_grad()\n",
        "        loss.backward()\n",
        "        optimizer.step()\n",
        "\n",
        "        if batch % 100 == 0:\n",
        "            loss, current = loss.item(), batch * len(X)\n",
        "            print(f\"loss: {loss:>7f}  [{current:>5d}/{size:>5d}]\")\n",
        "\n",
        "# Test loop.\n",
        "# Copied from: https://pytorch.org/tutorials/beginner/basics/quickstart_tutorial.html\n",
        "def test_loop(dataloader, model, loss_fn):\n",
        "    size = len(dataloader.dataset)\n",
        "    num_batches = len(dataloader)\n",
        "    test_loss, correct = 0, 0\n",
        "\n",
        "    with torch.no_grad():\n",
        "        for X, y in dataloader:\n",
        "            X, y = X.to(device), y.to(device)\n",
        "            pred = model(X)\n",
        "            test_loss += loss_fn(pred, y).item()\n",
        "            correct += (pred.argmax(1) == y).type(torch.float).sum().item()\n",
        "\n",
        "    test_loss /= num_batches\n",
        "    correct /= size\n",
        "    print(f\"Test Error: \\n Accuracy: {(100*correct):>0.1f}%, Avg loss: {test_loss:>8f} \\n\")"
      ],
      "execution_count": null,
      "outputs": []
    },
    {
      "cell_type": "code",
      "metadata": {
        "id": "3yKwNoVDraGu"
      },
      "source": [
        "# Train.\n",
        "# Copied from: https://pytorch.org/tutorials/beginner/basics/quickstart_tutorial.html\n",
        "for t in range(epochs):\n",
        "    print(f\"Epoch {t+1}\\n-------------------------------\")\n",
        "    train_loop(train_dataloader, model, loss_fn, optimizer)\n",
        "    test_loop(test_dataloader, model, loss_fn)\n",
        "print(\"Done!\")"
      ],
      "execution_count": null,
      "outputs": []
    }
  ]
}